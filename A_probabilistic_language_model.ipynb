{
  "nbformat": 4,
  "nbformat_minor": 0,
  "metadata": {
    "colab": {
      "provenance": []
    },
    "kernelspec": {
      "name": "python3",
      "display_name": "Python 3"
    },
    "language_info": {
      "name": "python"
    }
  },
  "cells": [
    {
      "cell_type": "markdown",
      "source": [
        "# Implementation of Andrej Karpathy's *makemore* Model  \n",
        "\n",
        "### Brief Description and Credits  \n",
        "\n",
        "This notebook contains my attempt to complete Andrej Karpathy's *makemore* assignment. It includes both the neural network developed in his [video](https://www.youtube.com/watch?v=TCH_1BHY58I) and my efforts to improve its performance as part of the assignment.  \n",
        "\n",
        "The model generates names by predicting the next letter based on the previous three. The dataset consists of letter triplets extracted from a list of several thousand names. The character set includes the 26 letters of the alphabet, along with a special character (`.`) marking the beginning and end of each name (e.g., `.alice.`).  \n",
        "\n",
        "The name generation process stops when the special character `.` appears after a letter, indicating the end of a name (e.g., `alice.`). The architecture of the neural network follows the principles outlined in:  \n",
        "\n",
        "> Yoshua Bengio, Réjean Ducharme, Pascal Vincent, and Christian Janvin, *A Neural Probabilistic Language Model*, *Journal of Machine Learning Research*, 2003.  \n",
        "> [Link to paper](https://api.semanticscholar.org/CorpusID:221275765)  \n"
      ],
      "metadata": {
        "id": "x94G36KSNm7-"
      }
    },
    {
      "cell_type": "markdown",
      "source": [
        "# Lesson Content  \n",
        "\n",
        "Below is the complete neural network developed in the [Andrej Karpathy's video](https://www.youtube.com/watch?v=TCH_1BHY58I).  \n"
      ],
      "metadata": {
        "id": "ygrXncDWIb5a"
      }
    },
    {
      "cell_type": "markdown",
      "source": [
        "## Download the dataset"
      ],
      "metadata": {
        "id": "ZaT3cHFyJPiF"
      }
    },
    {
      "cell_type": "code",
      "source": [
        "import torch\n",
        "import torch.nn.functional as F\n",
        "import matplotlib.pyplot as plt # for making figures\n",
        "%matplotlib inline\n",
        "# Clone the repository and extract the names\n",
        "!git clone https://github.com/karpathy/makemore.git\n",
        "words = open('makemore/names.txt', 'r').read().splitlines()\n"
      ],
      "metadata": {
        "colab": {
          "base_uri": "https://localhost:8080/"
        },
        "id": "TyvMwKW_ZMqO",
        "outputId": "b31ce6a0-0514-4beb-abee-42b0a3801ed0"
      },
      "execution_count": null,
      "outputs": [
        {
          "output_type": "stream",
          "name": "stdout",
          "text": [
            "Cloning into 'makemore'...\n",
            "remote: Enumerating objects: 64, done.\u001b[K\n",
            "remote: Counting objects: 100% (23/23), done.\u001b[K\n",
            "remote: Compressing objects: 100% (7/7), done.\u001b[K\n",
            "remote: Total 64 (delta 20), reused 16 (delta 16), pack-reused 41 (from 1)\u001b[K\n",
            "Receiving objects: 100% (64/64), 123.29 KiB | 17.61 MiB/s, done.\n",
            "Resolving deltas: 100% (36/36), done.\n"
          ]
        }
      ]
    },
    {
      "cell_type": "markdown",
      "source": [
        "## Initialization of the parameters of the network:"
      ],
      "metadata": {
        "id": "bk0LOFm2JisQ"
      }
    },
    {
      "cell_type": "code",
      "source": [
        "# parameters:\n",
        "lr = 0.1\n",
        "g = torch.Generator().manual_seed(2147483647)\n",
        "C = torch.randn((27, 10), generator=g)\n",
        "W1 = torch.randn((30, 200), generator=g)\n",
        "b1 = torch.randn(200, generator=g)\n",
        "W2 = torch.randn((200, 27))\n",
        "b2 = torch.randn(27, generator=g)\n",
        "parameters = [C, W1, b1, W2, b2]"
      ],
      "metadata": {
        "id": "W6gCjwoafpQF"
      },
      "execution_count": null,
      "outputs": []
    },
    {
      "cell_type": "code",
      "source": [
        "# Set the gradient attribute of the tensors to true. This passage is necessary\n",
        "# for the gradient descent algorithm\n",
        "for p in parameters:\n",
        "  p.requires_grad = True"
      ],
      "metadata": {
        "id": "XC72ji6PdGZw"
      },
      "execution_count": null,
      "outputs": []
    },
    {
      "cell_type": "markdown",
      "source": [
        "## Creation of the index map to tokenize the words and generation of dataset"
      ],
      "metadata": {
        "id": "gOQtQ6sW5J15"
      }
    },
    {
      "cell_type": "code",
      "source": [
        "chars = sorted(list(set(''.join(words))))\n",
        "stoi = {s:i+1 for i, s in enumerate(chars)}\n",
        "stoi['.'] = 0\n",
        "itos = {i:s for s, i in stoi.items()}\n",
        "print(itos)\n",
        "print(stoi)"
      ],
      "metadata": {
        "colab": {
          "base_uri": "https://localhost:8080/"
        },
        "id": "jHFxPZvu5QHw",
        "outputId": "e2320554-5d72-4282-d0b3-7d87a969a4d7"
      },
      "execution_count": null,
      "outputs": [
        {
          "output_type": "stream",
          "name": "stdout",
          "text": [
            "{1: 'a', 2: 'b', 3: 'c', 4: 'd', 5: 'e', 6: 'f', 7: 'g', 8: 'h', 9: 'i', 10: 'j', 11: 'k', 12: 'l', 13: 'm', 14: 'n', 15: 'o', 16: 'p', 17: 'q', 18: 'r', 19: 's', 20: 't', 21: 'u', 22: 'v', 23: 'w', 24: 'x', 25: 'y', 26: 'z', 0: '.'}\n",
            "{'a': 1, 'b': 2, 'c': 3, 'd': 4, 'e': 5, 'f': 6, 'g': 7, 'h': 8, 'i': 9, 'j': 10, 'k': 11, 'l': 12, 'm': 13, 'n': 14, 'o': 15, 'p': 16, 'q': 17, 'r': 18, 's': 19, 't': 20, 'u': 21, 'v': 22, 'w': 23, 'x': 24, 'y': 25, 'z': 26, '.': 0}\n"
          ]
        }
      ]
    },
    {
      "cell_type": "code",
      "source": [
        "# Creation of the dataset:\n",
        "\n",
        "block_size = 3\n",
        "X, Y = [], []\n",
        "length = len(words)\n",
        "\n",
        "\n",
        "for w in words:\n",
        "    context = [0]* block_size\n",
        "    for ch in w + '.':\n",
        "        ix = stoi[ch]\n",
        "        X.append(context)\n",
        "        Y.append(ix)\n",
        "        context = context[1:] + [ix]\n",
        "\n",
        "X = torch.tensor(X)\n",
        "Y  = torch.tensor(Y)\n",
        "print(X.shape, Y.shape)\n",
        "\n",
        "import random\n",
        "random.seed(42)\n",
        "random.shuffle(words)\n",
        "\n",
        "n1 = int(0.8*len(words))\n",
        "n2 = int(0.9*len(words))\n",
        "X_train, Y_train = X[:n1], Y[:n1]\n",
        "X_val, Y_val = X[n1:n2], Y[n1:n2]\n",
        "X_test, Y_test = X[n2:], Y[n2:]\n",
        "\n"
      ],
      "metadata": {
        "colab": {
          "base_uri": "https://localhost:8080/"
        },
        "id": "uXXkAXo56y3r",
        "outputId": "f76dc8b8-79a0-40c7-8f20-f973ba1fee55"
      },
      "execution_count": null,
      "outputs": [
        {
          "output_type": "stream",
          "name": "stdout",
          "text": [
            "torch.Size([228146, 3]) torch.Size([228146])\n"
          ]
        }
      ]
    },
    {
      "cell_type": "code",
      "source": [
        "lre = torch.linspace(-3, 0, 1000)\n",
        "lre = 10**lre\n",
        "lri = []  # To store learning rates\n",
        "lossi = []  # To store loss values\n",
        "steps = []\n"
      ],
      "metadata": {
        "id": "9TK0ojeXcSWE"
      },
      "execution_count": null,
      "outputs": []
    },
    {
      "cell_type": "code",
      "source": [
        "import torch\n",
        "import torch.nn.functional as F\n",
        "\n",
        "# Assuming variables C, X, Y, W1, b1, W2, b2, lrs, and parameters are defined earlier\n",
        "\n",
        "lr = 0.1\n",
        "\n",
        "for i in range(50000):\n",
        "    # Forward pass\n",
        "    ix = torch.randint(0, X_train.shape[0], (32,))  # Randomly sample a batch\n",
        "    emb = C[X_train[ix]]\n",
        "    h = torch.tanh(emb.view(-1, 30) @ W1 + b1)\n",
        "    logits = h @ W2 + b2\n",
        "    loss = F.cross_entropy(logits, Y_train[ix])  # Use the same indices for targets\n",
        "\n",
        "    # Backward pass\n",
        "    for p in parameters:\n",
        "        p.grad = None  # Clear gradients\n",
        "    loss.backward()\n",
        "\n",
        "    #Track stats\n",
        "    #lri.append(lr)\n",
        "    steps.append(i)\n",
        "    lossi.append(loss.log10().item())\n",
        "\n",
        "    if i % 10000 == 0:\n",
        "      lr = lr/2;\n",
        "\n",
        "\n",
        "    # Update parameters\n",
        "    for p in parameters:\n",
        "        p.data += -lr * p.grad\n",
        "\n",
        "# Print final loss\n",
        "print(\"Final loss:\", loss.item())\n"
      ],
      "metadata": {
        "colab": {
          "base_uri": "https://localhost:8080/"
        },
        "id": "NyeGCSnX6tIs",
        "outputId": "6225196d-c547-4fab-8fc3-591f7ac99e42"
      },
      "execution_count": null,
      "outputs": [
        {
          "output_type": "stream",
          "name": "stdout",
          "text": [
            "Final loss: 1.6990761756896973\n"
          ]
        }
      ]
    },
    {
      "cell_type": "code",
      "source": [
        "logits.shape"
      ],
      "metadata": {
        "colab": {
          "base_uri": "https://localhost:8080/"
        },
        "id": "kVU1bjYAj1uS",
        "outputId": "d0febeb0-d0f8-4ca9-eb7a-016f6b3c7164"
      },
      "execution_count": null,
      "outputs": [
        {
          "output_type": "execute_result",
          "data": {
            "text/plain": [
              "torch.Size([32, 27])"
            ]
          },
          "metadata": {},
          "execution_count": 60
        }
      ]
    },
    {
      "cell_type": "code",
      "source": [
        "plt.plot(steps, lossi)"
      ],
      "metadata": {
        "colab": {
          "base_uri": "https://localhost:8080/",
          "height": 447
        },
        "id": "fdW7qymclKj2",
        "outputId": "3ccfb2f9-c570-4d84-f6e6-611003c312f3"
      },
      "execution_count": null,
      "outputs": [
        {
          "output_type": "execute_result",
          "data": {
            "text/plain": [
              "[<matplotlib.lines.Line2D at 0x7b78af772550>]"
            ]
          },
          "metadata": {},
          "execution_count": 10
        },
        {
          "output_type": "display_data",
          "data": {
            "text/plain": [
              "<Figure size 640x480 with 1 Axes>"
            ],
            "image/png": "[encoded data removed]"
          },
          "metadata": {}
        }
      ]
    },
    {
      "cell_type": "markdown",
      "source": [
        "**The validation set delivers a\n",
        "loss function comparable with the training loss\n",
        "This typically happens when the model underfits**\n"
      ],
      "metadata": {
        "id": "CqZuttIyeFS9"
      }
    },
    {
      "cell_type": "code",
      "source": [
        "emb = C[X_val]\n",
        "h = torch.tanh(emb.view(-1, 30) @ W1 + b1)\n",
        "logits = h @ W2 + b2\n",
        "loss = F.cross_entropy(logits, Y_val)  # Use the same indices for targets\n",
        "loss.item()"
      ],
      "metadata": {
        "colab": {
          "base_uri": "https://localhost:8080/"
        },
        "id": "fZDrD0WKdw6M",
        "outputId": "6c6d5418-e4ad-4982-ae31-86963e9a0ab9"
      },
      "execution_count": null,
      "outputs": [
        {
          "output_type": "execute_result",
          "data": {
            "text/plain": [
              "2.3552803993225098"
            ]
          },
          "metadata": {},
          "execution_count": 11
        }
      ]
    },
    {
      "cell_type": "markdown",
      "source": [
        "### How does the trained embedding look like?"
      ],
      "metadata": {
        "id": "MKxQJ1T45jkJ"
      }
    },
    {
      "cell_type": "code",
      "source": [
        "plt.figure(figsize = (8,8))\n",
        "plt.scatter(C[:, 0].data, C[:, 1].data, s = 200)\n",
        "for i in range(C.shape[0]):\n",
        "    plt.text(C[i, 0].item(), C[i, 1].item(), itos[i], ha = \"center\", va = \"center\", color = \"white\")\n",
        "plt.grid(\"minor\")"
      ],
      "metadata": {
        "colab": {
          "base_uri": "https://localhost:8080/",
          "height": 681
        },
        "id": "jPHXLLe5gy4z",
        "outputId": "25ce7172-59a3-4076-de39-9a9458758079"
      },
      "execution_count": null,
      "outputs": [
        {
          "output_type": "display_data",
          "data": {
            "text/plain": [
              "<Figure size 800x800 with 1 Axes>"
            ],
            "image/png": "[encoded data removed]"
          },
          "metadata": {}
        }
      ]
    },
    {
      "cell_type": "markdown",
      "source": [
        "## How to sample from the model:"
      ],
      "metadata": {
        "id": "vfSmifyrmanf"
      }
    },
    {
      "cell_type": "code",
      "source": [
        "g = torch.Generator().manual_seed(2147483647 + 10)\n",
        "\n",
        "for _ in range(20):\n",
        "  out = []\n",
        "  context = [0] * block_size\n",
        "  while True:\n",
        "    emb = C[torch.tensor(context)]\n",
        "    h = torch.tanh(emb.view(1, -1) @ W1 + b1)\n",
        "    logits = h @ W2 + b2\n",
        "    probs = F.softmax(logits, dim=1)\n",
        "    ix = torch.multinomial(probs, num_samples=1, generator=g).item()\n",
        "    context = context[1:] + [ix]\n",
        "    out.append(ix)\n",
        "    if ix == 0:\n",
        "      break\n",
        "\n",
        "    print(''.join(itos[i] for i in out))"
      ],
      "metadata": {
        "colab": {
          "base_uri": "https://localhost:8080/"
        },
        "id": "8RyFvRI2mkbT",
        "outputId": "10603ffd-809b-4e99-e1ed-5f87773b3ed6"
      },
      "execution_count": null,
      "outputs": [
        {
          "output_type": "stream",
          "name": "stdout",
          "text": [
            "m\n",
            "mo\n",
            "mon\n",
            "mona\n",
            "m\n",
            "ma\n",
            "may\n",
            "maya\n",
            "mayah\n",
            "s\n",
            "se\n",
            "see\n",
            "m\n",
            "ma\n",
            "mad\n",
            "mady\n",
            "madyn\n",
            "a\n",
            "al\n",
            "ala\n",
            "alay\n",
            "alayn\n",
            "alayna\n",
            "r\n",
            "ru\n",
            "rut\n",
            "ruth\n",
            "d\n",
            "dr\n",
            "drl\n",
            "drle\n",
            "drlei\n",
            "drleig\n",
            "drleigh\n",
            "e\n",
            "el\n",
            "ele\n",
            "eled\n",
            "eledy\n",
            "eledye\n",
            "i\n",
            "ii\n",
            "iil\n",
            "iile\n",
            "iiley\n",
            "iileyg\n",
            "iileyga\n",
            "iileygan\n",
            "iileygane\n",
            "iileyganel\n",
            "iileyganell\n",
            "iileyganelle\n",
            "e\n",
            "el\n",
            "eli\n",
            "elie\n",
            "elies\n",
            "eliest\n",
            "eliesta\n",
            "eliestac\n",
            "eliestaca\n",
            "eliestacan\n",
            "eliestacanl\n",
            "eliestacanle\n",
            "eliestacanlei\n",
            "eliestacanleig\n",
            "eliestacanleigh\n",
            "m\n",
            "ma\n",
            "mal\n",
            "mala\n",
            "malai\n",
            "malaia\n",
            "n\n",
            "no\n",
            "nos\n",
            "noso\n",
            "nosor\n",
            "nosorg\n",
            "nosorgi\n",
            "nosorgie\n",
            "s\n",
            "sh\n",
            "shi\n",
            "shir\n",
            "shira\n",
            "shirae\n",
            "shirael\n",
            "shiraely\n",
            "j\n",
            "ju\n",
            "jul\n",
            "juli\n",
            "julis\n",
            "julise\n",
            "julisel\n",
            "julisely\n",
            "juliselyn\n",
            "juliselynn\n",
            "n\n",
            "no\n",
            "nov\n",
            "nova\n",
            "noval\n",
            "novaly\n",
            "novalyn\n",
            "b\n",
            "br\n",
            "bre\n",
            "bren\n",
            "brenc\n",
            "brence\n",
            "r\n",
            "ry\n",
            "ryy\n",
            "ryyl\n",
            "ryyle\n",
            "ryylen\n",
            "ryylene\n",
            "e\n",
            "el\n",
            "eli\n",
            "k\n",
            "ka\n",
            "kay\n",
            "kayl\n",
            "kayle\n",
            "kayley\n",
            "kayleya\n",
            "k\n",
            "ky\n",
            "kyl\n",
            "kyle\n",
            "kylei\n",
            "kyleig\n",
            "kyleigh\n",
            "kyleigha\n",
            "kyleighan\n",
            "kyleighana\n",
            "kyleighanaa\n",
            "kyleighanaad\n",
            "kyleighanaady\n",
            "kyleighanaadyl\n",
            "kyleighanaadyly\n",
            "kyleighanaadylyn\n",
            "kyleighanaadylynn\n"
          ]
        }
      ]
    },
    {
      "cell_type": "markdown",
      "source": [
        "# Assignment:\n",
        "\n",
        "I attempted to fine-tune the model with the goal of reducing the validation loss below 2.1. The assignment allows for a few strategies to achieve this, including:  \n",
        "- Increasing the embedding dimension (since one issue with the Bengio model is the potential underutilization of the embedding space).  \n",
        "- Expanding the context size (e.g., from 3 to 4).  \n",
        "- Implementing a learning rate decay strategy.  \n",
        "- Adding or reshaping layers.\n",
        "\n",
        "---\n",
        "\n",
        "# Modifications:\n",
        "\n",
        "- I added an additional layer with the ReLU activation function to improve the non-linearity of the model.  \n",
        "- I made the code less hardcoded than the original tutorial, allowing for easier changes to hyperparameters.  \n",
        "- Instead of using a single hidden layer of size 200, I opted for two layers: one of size 200 and the second of size 100. This approach aimed to increase the depth of the network, which seemed a more promising strategy than simply enlarging a single layer.\n",
        "\n",
        "---\n",
        "\n",
        "# Results:\n",
        "\n",
        "Unfortunately, I was unable to reduce the validation loss below 2.1. After manually adjusting the learning rate and iterations four times, the best result I achieved was a slightly improved validation loss of 2.30, compared to 2.35 in the original model.\n"
      ],
      "metadata": {
        "id": "L6S2vObBbYaP"
      }
    },
    {
      "cell_type": "code",
      "source": [
        "# Creation of the dataset:\n",
        "\n",
        "block_size_op = 4\n",
        "X_new, Y_new = [], []\n",
        "length = len(words)\n",
        "\n",
        "\n",
        "for w in words:\n",
        "    context = [0]* block_size_op\n",
        "    for ch in w + '.':\n",
        "        ix = stoi[ch]\n",
        "        X_new.append(context)\n",
        "        Y_new.append(ix)\n",
        "        context = context[1:] + [ix]\n",
        "\n",
        "X_new = torch.tensor(X_new)\n",
        "Y_new  = torch.tensor(Y_new)\n",
        "print(X_new.shape, Y_new.shape)\n",
        "\n",
        "import random\n",
        "random.seed(42)\n",
        "random.shuffle(words)\n",
        "\n",
        "n1 = int(0.8*len(words))\n",
        "n2 = int(0.9*len(words))\n",
        "X_train, Y_train = X_new[:n1], Y_new[:n1]\n",
        "X_val, Y_val = X_new[n1:n2], Y_new[n1:n2]\n",
        "X_test, Y_test = X_new[n2:], Y_new[n2:]\n",
        "\n",
        "X_train.shape\n",
        "\n"
      ],
      "metadata": {
        "colab": {
          "base_uri": "https://localhost:8080/"
        },
        "id": "et6BFgCEiB--",
        "outputId": "dcdd7774-3226-4836-dbba-d872047aa5eb"
      },
      "execution_count": null,
      "outputs": [
        {
          "output_type": "stream",
          "name": "stdout",
          "text": [
            "torch.Size([228146, 4]) torch.Size([228146])\n"
          ]
        },
        {
          "output_type": "execute_result",
          "data": {
            "text/plain": [
              "torch.Size([25626, 4])"
            ]
          },
          "metadata": {},
          "execution_count": 83
        }
      ]
    },
    {
      "cell_type": "markdown",
      "source": [
        "### Visualize some dataset"
      ],
      "metadata": {
        "id": "ddAlcwFk1zw0"
      }
    },
    {
      "cell_type": "code",
      "source": [
        "# Print a few examples of the dataset to verify correct creation\n",
        "for i in range(5):  # Print the first 5 samples\n",
        "    print(f\"X[{i}]: {X_train[i]} -> Y[{i}]: {Y[i]}\")\n"
      ],
      "metadata": {
        "colab": {
          "base_uri": "https://localhost:8080/"
        },
        "id": "pDwKtj-Nto0b",
        "outputId": "2db270d4-e261-4ad2-b810-18f4c2183215"
      },
      "execution_count": null,
      "outputs": [
        {
          "output_type": "stream",
          "name": "stdout",
          "text": [
            "X[0]: tensor([0, 0, 0, 0]) -> Y[0]: 20\n",
            "X[1]: tensor([0, 0, 0, 5]) -> Y[1]: 1\n",
            "X[2]: tensor([ 0,  0,  5, 12]) -> Y[2]: 21\n",
            "X[3]: tensor([ 0,  5, 12,  9]) -> Y[3]: 18\n",
            "X[4]: tensor([ 5, 12,  9,  1]) -> Y[4]: 5\n"
          ]
        }
      ]
    },
    {
      "cell_type": "code",
      "source": [
        "block_size_op = 4 # Expand the number of letters to condition on!\n",
        "emb_dim = 40\n",
        "hidden1 = 200 # (100,50) seem to be promising\n",
        "hidden2 = 100\n",
        "\n",
        "\n",
        "# parameters:\n",
        "lr = 0.1\n",
        "batch_size = 64\n",
        "g = torch.Generator().manual_seed(2147483647)\n",
        "C = torch.randn((27, emb_dim), generator=g)\n",
        "W1 = torch.randn((block_size_op * emb_dim, hidden1), generator=g)\n",
        "b1 = torch.randn(hidden1, generator=g)\n",
        "W2 = torch.randn((hidden1, hidden2), generator=g)\n",
        "b2 = torch.randn(hidden2, generator=g)\n",
        "W3 = torch.randn((hidden2, 27)) # swapped\n",
        "b3 = torch.randn(27, generator=g)\n",
        "parameters = [C, W1, b1, W2, b2, W3, b3]\n"
      ],
      "metadata": {
        "id": "n1xmF5pldaQZ"
      },
      "execution_count": null,
      "outputs": []
    },
    {
      "cell_type": "code",
      "source": [
        "for p in parameters:\n",
        "  p.requires_grad = True"
      ],
      "metadata": {
        "id": "qoct8LCfiUvM"
      },
      "execution_count": null,
      "outputs": []
    },
    {
      "cell_type": "code",
      "source": [
        "lossi = []  # To store loss values\n",
        "steps = []"
      ],
      "metadata": {
        "id": "ZKd3nspgrbv7"
      },
      "execution_count": 134,
      "outputs": []
    },
    {
      "cell_type": "code",
      "source": [
        "import torch\n",
        "import torch.nn.functional as F\n",
        "\n",
        "\n",
        "lr = 0.05\n",
        "iterations = 500000\n",
        "batch_size = 64\n",
        "\n",
        "\n",
        "\n",
        "for i in range(iterations):\n",
        "    # Forward pass\n",
        "    ix = torch.randint(0, X_train.shape[0], (batch_size,), generator=g)# Randomly sample a batch\n",
        "    embstar = C[X_train[ix]]\n",
        "    h = F.leaky_relu(embstar.view(batch_size, -1) @ W1 + b1, negative_slope = 0.01) # W1 batch_size*hidden_1 + b1 hidden_1\n",
        "    z = F.tanh(h @ W2 + b2) #W2star (batch_size, hidden1) *() hidden1, hidden2)  + hidden2 -> (64 , hidden2)\n",
        "    logits = z @ W3 + b3 # (batch_size, hidden2) * (hidden2, 27) + 27\n",
        "    loss = F.cross_entropy(logits, Y_train[ix])  # Use the same indices for targets\n",
        "\n",
        "    # Backward pass\n",
        "    for p in parameters:\n",
        "        p.grad = None  # Clear gradients\n",
        "    loss.backward()\n",
        "\n",
        "    #Track stats\n",
        "    #lri.append(lr)\n",
        "    steps.append(i)\n",
        "    lossi.append(loss.log10().item())\n",
        "\n",
        "    #Learning rate decay:\n",
        "    if i % 10000 == 0:\n",
        "      lr = lr/10;\n",
        "\n",
        "\n",
        "    # Update parameters\n",
        "    for p in parameters:\n",
        "        p.data += -lr * p.grad\n",
        "\n",
        "# Print final loss\n",
        "print(\"Final loss:\", loss.item())\n"
      ],
      "metadata": {
        "colab": {
          "base_uri": "https://localhost:8080/"
        },
        "id": "yi9fw-tAfGcT",
        "outputId": "c00e412e-d227-4196-a816-5be7149f15ca"
      },
      "execution_count": 131,
      "outputs": [
        {
          "output_type": "stream",
          "name": "stdout",
          "text": [
            "Final loss: 2.1942665576934814\n"
          ]
        }
      ]
    },
    {
      "cell_type": "markdown",
      "source": [
        "## Validation loss"
      ],
      "metadata": {
        "id": "eBmm9gvVfmIc"
      }
    },
    {
      "cell_type": "code",
      "source": [
        "ix = torch.randint(0, X_val.shape[0], (batch_size,), generator=g)# Randomly sample a batch\n",
        "emb = C[X_val[ix]]\n",
        "h = F.leaky_relu(emb.view(batch_size, -1) @ W1 + b1, negative_slope = 0.01) # W1 batch_size*hidden_1 + b1 hidden_1\n",
        "z = torch.tanh(h @ W2 + b2) #W2star (batch_size, hidden1) *() hidden1, hidden2)  + hidden2 -> (64 , hidden2)\n",
        "logits = z @ W3 + b3\n",
        "loss = F.cross_entropy(logits, Y_val[ix])  # Use the same indices for targets\n",
        "loss.item()"
      ],
      "metadata": {
        "colab": {
          "base_uri": "https://localhost:8080/"
        },
        "id": "WYQ2yFs-fot8",
        "outputId": "df77a059-789d-4ad0-f39d-4688a570d9d1"
      },
      "execution_count": 132,
      "outputs": [
        {
          "output_type": "execute_result",
          "data": {
            "text/plain": [
              "2.308105707168579"
            ]
          },
          "metadata": {},
          "execution_count": 132
        }
      ]
    },
    {
      "cell_type": "markdown",
      "source": [
        "## Sampling from this new model"
      ],
      "metadata": {
        "id": "OIFTKBlFl8k9"
      }
    },
    {
      "cell_type": "code",
      "source": [
        "g = torch.Generator().manual_seed(2147483647 + 10)\n",
        "\n",
        "for _ in range(20):\n",
        "  out = []\n",
        "  context = [0] * block_size_op\n",
        "  while True:\n",
        "    #emb = C[torch.tensor(context)]\n",
        "    #h = torch.tanh(emb.view(1, -1) @ W1 + b1)\n",
        "    #logits = h @ W2 + b2\n",
        "\n",
        "    emb = C[torch.tensor(context)]\n",
        "    h = F.leaky_relu(emb.view(1, -1) @ W1 + b1, negative_slope = 0.01) # W1 1*hidden_1 + b1 hidden_1\n",
        "    z = F.tanh(h @ W2 + b2) #W2star (1, hidden1) *() hidden1, hidden2)  + hidden2 -> (1 , hidden2)\n",
        "    logits = z @ W3 + b3 # (1, hidden2) * (hidden2, 27) + 27\n",
        "    probs = F.softmax(logits, dim=1)\n",
        "    ix = torch.multinomial(probs, num_samples=1, generator=g).item()\n",
        "    context = context[1:] + [ix]\n",
        "    out.append(ix)\n",
        "    if ix == 0:\n",
        "      break\n",
        "\n",
        "    print(''.join(itos[i] for i in out))"
      ],
      "metadata": {
        "colab": {
          "base_uri": "https://localhost:8080/"
        },
        "id": "zE_L4th7l7aC",
        "outputId": "806d7531-4206-43d6-9fea-391f5c3b43ae"
      },
      "execution_count": 136,
      "outputs": [
        {
          "output_type": "stream",
          "name": "stdout",
          "text": [
            "m\n",
            "mo\n",
            "mor\n",
            "mora\n",
            "k\n",
            "km\n",
            "kmy\n",
            "kmya\n",
            "kmyay\n",
            "s\n",
            "se\n",
            "see\n",
            "seel\n",
            "n\n",
            "nd\n",
            "ndy\n",
            "ndyr\n",
            "ndyri\n",
            "ndyria\n",
            "ndyriah\n",
            "r\n",
            "re\n",
            "ren\n",
            "renh\n",
            "renhr\n",
            "j\n",
            "je\n",
            "jen\n",
            "jeng\n",
            "jengr\n",
            "jengrn\n",
            "jengrno\n",
            "jengrnom\n",
            "a\n",
            "ad\n",
            "ade\n",
            "adel\n",
            "adely\n",
            "adelyn\n",
            "e\n",
            "el\n",
            "eli\n",
            "elii\n",
            "eliih\n",
            "eliihn\n",
            "eliihnn\n",
            "eliihnni\n",
            "eliihnnio\n",
            "eliihnnion\n",
            "eliihnnione\n",
            "eliihnnionet\n",
            "e\n",
            "ed\n",
            "ede\n",
            "edel\n",
            "c\n",
            "ca\n",
            "car\n",
            "carr\n",
            "carri\n",
            "carria\n",
            "carrian\n",
            "carriann\n",
            "carrianne\n",
            "t\n",
            "tu\n",
            "tuk\n",
            "tukm\n",
            "tukmo\n",
            "tukmor\n",
            "tukmory\n",
            "tukmorye\n",
            "tukmoryel\n",
            "n\n",
            "no\n",
            "nos\n",
            "nosh\n",
            "noshe\n",
            "nosheg\n",
            "noshegn\n",
            "g\n",
            "ga\n",
            "gah\n",
            "gahv\n",
            "gahve\n",
            "gahven\n",
            "s\n",
            "sa\n",
            "sav\n",
            "savi\n",
            "j\n",
            "jo\n",
            "jos\n",
            "jose\n",
            "josel\n",
            "josell\n",
            "joselle\n",
            "j\n",
            "je\n",
            "jet\n",
            "jett\n",
            "jetta\n",
            "jettac\n",
            "jettaca\n",
            "jettacat\n",
            "b\n",
            "br\n",
            "bre\n",
            "bret\n",
            "breth\n",
            "brethd\n",
            "r\n",
            "ru\n",
            "ruy\n",
            "ruyi\n",
            "ruyia\n",
            "ruyial\n",
            "ruyiall\n",
            "ruyialli\n",
            "ruyiallie\n",
            "ruyiallieh\n",
            "y\n",
            "yk\n",
            "yka\n",
            "ykaa\n",
            "m\n",
            "mi\n",
            "mis\n",
            "misa\n",
            "misan\n",
            "misanu\n",
            "misanue\n",
            "misanuer\n"
          ]
        }
      ]
    }
  ]
}
